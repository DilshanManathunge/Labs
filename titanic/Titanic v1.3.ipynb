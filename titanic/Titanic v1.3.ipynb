{
    "cells": [
        {
            "cell_type": "code",
            "execution_count": 28,
            "source": [
                "import pandas as pd\r\n",
                "import numpy as np\r\n",
                "import random as rnd\r\n",
                "\r\n",
                "import seaborn as sns\r\n",
                "import matplotlib.pyplot as plt\r\n",
                "sns.set()\r\n",
                "%matplotlib inline"
            ],
            "outputs": [],
            "metadata": {}
        },
        {
            "cell_type": "code",
            "execution_count": 29,
            "source": [
                "from sklearn.linear_model import LogisticRegression\r\n",
                "from sklearn.svm import SVC, LinearSVC\r\n",
                "from sklearn.ensemble import RandomForestClassifier\r\n",
                "from sklearn.neighbors import KNeighborsClassifier\r\n",
                "from sklearn.naive_bayes import GaussianNB\r\n",
                "from sklearn.linear_model import Perceptron\r\n",
                "from sklearn.linear_model import SGDClassifier\r\n",
                "from sklearn.tree import DecisionTreeClassifier"
            ],
            "outputs": [],
            "metadata": {}
        },
        {
            "cell_type": "code",
            "execution_count": 4,
            "source": [
                "train_df = pd.read_csv(\"input/train.csv\")\r\n",
                "test_df = pd.read_csv(\"input/test.csv\")\r\n",
                "combined_df =[train_df,test_df]"
            ],
            "outputs": [],
            "metadata": {}
        },
        {
            "cell_type": "code",
            "execution_count": 5,
            "source": [
                "print(train_df.columns.values)"
            ],
            "outputs": [
                {
                    "output_type": "stream",
                    "name": "stdout",
                    "text": [
                        "['PassengerId' 'Survived' 'Pclass' 'Name' 'Sex' 'Age' 'SibSp' 'Parch'\n",
                        " 'Ticket' 'Fare' 'Cabin' 'Embarked']\n"
                    ]
                }
            ],
            "metadata": {}
        },
        {
            "cell_type": "code",
            "execution_count": 15,
            "source": [
                "train_df.head()"
            ],
            "outputs": [
                {
                    "output_type": "execute_result",
                    "data": {
                        "text/plain": [
                            "   PassengerId  Survived  Pclass  \\\n",
                            "0            1         0       3   \n",
                            "1            2         1       1   \n",
                            "2            3         1       3   \n",
                            "3            4         1       1   \n",
                            "4            5         0       3   \n",
                            "\n",
                            "                                                Name     Sex   Age  SibSp  \\\n",
                            "0                            Braund, Mr. Owen Harris    male  22.0      1   \n",
                            "1  Cumings, Mrs. John Bradley (Florence Briggs Th...  female  38.0      1   \n",
                            "2                             Heikkinen, Miss. Laina  female  26.0      0   \n",
                            "3       Futrelle, Mrs. Jacques Heath (Lily May Peel)  female  35.0      1   \n",
                            "4                           Allen, Mr. William Henry    male  35.0      0   \n",
                            "\n",
                            "   Parch            Ticket     Fare Cabin Embarked  \n",
                            "0      0         A/5 21171   7.2500   NaN        S  \n",
                            "1      0          PC 17599  71.2833   C85        C  \n",
                            "2      0  STON/O2. 3101282   7.9250   NaN        S  \n",
                            "3      0            113803  53.1000  C123        S  \n",
                            "4      0            373450   8.0500   NaN        S  "
                        ],
                        "text/html": [
                            "<div>\n",
                            "<style scoped>\n",
                            "    .dataframe tbody tr th:only-of-type {\n",
                            "        vertical-align: middle;\n",
                            "    }\n",
                            "\n",
                            "    .dataframe tbody tr th {\n",
                            "        vertical-align: top;\n",
                            "    }\n",
                            "\n",
                            "    .dataframe thead th {\n",
                            "        text-align: right;\n",
                            "    }\n",
                            "</style>\n",
                            "<table border=\"1\" class=\"dataframe\">\n",
                            "  <thead>\n",
                            "    <tr style=\"text-align: right;\">\n",
                            "      <th></th>\n",
                            "      <th>PassengerId</th>\n",
                            "      <th>Survived</th>\n",
                            "      <th>Pclass</th>\n",
                            "      <th>Name</th>\n",
                            "      <th>Sex</th>\n",
                            "      <th>Age</th>\n",
                            "      <th>SibSp</th>\n",
                            "      <th>Parch</th>\n",
                            "      <th>Ticket</th>\n",
                            "      <th>Fare</th>\n",
                            "      <th>Cabin</th>\n",
                            "      <th>Embarked</th>\n",
                            "    </tr>\n",
                            "  </thead>\n",
                            "  <tbody>\n",
                            "    <tr>\n",
                            "      <th>0</th>\n",
                            "      <td>1</td>\n",
                            "      <td>0</td>\n",
                            "      <td>3</td>\n",
                            "      <td>Braund, Mr. Owen Harris</td>\n",
                            "      <td>male</td>\n",
                            "      <td>22.0</td>\n",
                            "      <td>1</td>\n",
                            "      <td>0</td>\n",
                            "      <td>A/5 21171</td>\n",
                            "      <td>7.2500</td>\n",
                            "      <td>NaN</td>\n",
                            "      <td>S</td>\n",
                            "    </tr>\n",
                            "    <tr>\n",
                            "      <th>1</th>\n",
                            "      <td>2</td>\n",
                            "      <td>1</td>\n",
                            "      <td>1</td>\n",
                            "      <td>Cumings, Mrs. John Bradley (Florence Briggs Th...</td>\n",
                            "      <td>female</td>\n",
                            "      <td>38.0</td>\n",
                            "      <td>1</td>\n",
                            "      <td>0</td>\n",
                            "      <td>PC 17599</td>\n",
                            "      <td>71.2833</td>\n",
                            "      <td>C85</td>\n",
                            "      <td>C</td>\n",
                            "    </tr>\n",
                            "    <tr>\n",
                            "      <th>2</th>\n",
                            "      <td>3</td>\n",
                            "      <td>1</td>\n",
                            "      <td>3</td>\n",
                            "      <td>Heikkinen, Miss. Laina</td>\n",
                            "      <td>female</td>\n",
                            "      <td>26.0</td>\n",
                            "      <td>0</td>\n",
                            "      <td>0</td>\n",
                            "      <td>STON/O2. 3101282</td>\n",
                            "      <td>7.9250</td>\n",
                            "      <td>NaN</td>\n",
                            "      <td>S</td>\n",
                            "    </tr>\n",
                            "    <tr>\n",
                            "      <th>3</th>\n",
                            "      <td>4</td>\n",
                            "      <td>1</td>\n",
                            "      <td>1</td>\n",
                            "      <td>Futrelle, Mrs. Jacques Heath (Lily May Peel)</td>\n",
                            "      <td>female</td>\n",
                            "      <td>35.0</td>\n",
                            "      <td>1</td>\n",
                            "      <td>0</td>\n",
                            "      <td>113803</td>\n",
                            "      <td>53.1000</td>\n",
                            "      <td>C123</td>\n",
                            "      <td>S</td>\n",
                            "    </tr>\n",
                            "    <tr>\n",
                            "      <th>4</th>\n",
                            "      <td>5</td>\n",
                            "      <td>0</td>\n",
                            "      <td>3</td>\n",
                            "      <td>Allen, Mr. William Henry</td>\n",
                            "      <td>male</td>\n",
                            "      <td>35.0</td>\n",
                            "      <td>0</td>\n",
                            "      <td>0</td>\n",
                            "      <td>373450</td>\n",
                            "      <td>8.0500</td>\n",
                            "      <td>NaN</td>\n",
                            "      <td>S</td>\n",
                            "    </tr>\n",
                            "  </tbody>\n",
                            "</table>\n",
                            "</div>"
                        ]
                    },
                    "metadata": {},
                    "execution_count": 15
                }
            ],
            "metadata": {}
        },
        {
            "cell_type": "code",
            "execution_count": 6,
            "source": [
                "train_df.shape"
            ],
            "outputs": [
                {
                    "output_type": "execute_result",
                    "data": {
                        "text/plain": [
                            "(891, 12)"
                        ]
                    },
                    "metadata": {},
                    "execution_count": 6
                }
            ],
            "metadata": {}
        },
        {
            "cell_type": "code",
            "execution_count": 7,
            "source": [
                "train_df.isnull().sum()"
            ],
            "outputs": [
                {
                    "output_type": "execute_result",
                    "data": {
                        "text/plain": [
                            "PassengerId      0\n",
                            "Survived         0\n",
                            "Pclass           0\n",
                            "Name             0\n",
                            "Sex              0\n",
                            "Age            177\n",
                            "SibSp            0\n",
                            "Parch            0\n",
                            "Ticket           0\n",
                            "Fare             0\n",
                            "Cabin          687\n",
                            "Embarked         2\n",
                            "dtype: int64"
                        ]
                    },
                    "metadata": {},
                    "execution_count": 7
                }
            ],
            "metadata": {}
        },
        {
            "cell_type": "code",
            "execution_count": 8,
            "source": [
                "train_df.info()\r\n",
                "print(\"------\"*20)\r\n",
                "test_df.info()"
            ],
            "outputs": [
                {
                    "output_type": "stream",
                    "name": "stdout",
                    "text": [
                        "<class 'pandas.core.frame.DataFrame'>\n",
                        "RangeIndex: 891 entries, 0 to 890\n",
                        "Data columns (total 12 columns):\n",
                        " #   Column       Non-Null Count  Dtype  \n",
                        "---  ------       --------------  -----  \n",
                        " 0   PassengerId  891 non-null    int64  \n",
                        " 1   Survived     891 non-null    int64  \n",
                        " 2   Pclass       891 non-null    int64  \n",
                        " 3   Name         891 non-null    object \n",
                        " 4   Sex          891 non-null    object \n",
                        " 5   Age          714 non-null    float64\n",
                        " 6   SibSp        891 non-null    int64  \n",
                        " 7   Parch        891 non-null    int64  \n",
                        " 8   Ticket       891 non-null    object \n",
                        " 9   Fare         891 non-null    float64\n",
                        " 10  Cabin        204 non-null    object \n",
                        " 11  Embarked     889 non-null    object \n",
                        "dtypes: float64(2), int64(5), object(5)\n",
                        "memory usage: 83.7+ KB\n",
                        "------------------------------------------------------------------------------------------------------------------------\n",
                        "<class 'pandas.core.frame.DataFrame'>\n",
                        "RangeIndex: 418 entries, 0 to 417\n",
                        "Data columns (total 11 columns):\n",
                        " #   Column       Non-Null Count  Dtype  \n",
                        "---  ------       --------------  -----  \n",
                        " 0   PassengerId  418 non-null    int64  \n",
                        " 1   Pclass       418 non-null    int64  \n",
                        " 2   Name         418 non-null    object \n",
                        " 3   Sex          418 non-null    object \n",
                        " 4   Age          332 non-null    float64\n",
                        " 5   SibSp        418 non-null    int64  \n",
                        " 6   Parch        418 non-null    int64  \n",
                        " 7   Ticket       418 non-null    object \n",
                        " 8   Fare         417 non-null    float64\n",
                        " 9   Cabin        91 non-null     object \n",
                        " 10  Embarked     418 non-null    object \n",
                        "dtypes: float64(2), int64(4), object(5)\n",
                        "memory usage: 36.0+ KB\n"
                    ]
                }
            ],
            "metadata": {}
        },
        {
            "cell_type": "code",
            "execution_count": 9,
            "source": [
                "train_df.describe()"
            ],
            "outputs": [
                {
                    "output_type": "execute_result",
                    "data": {
                        "text/plain": [
                            "       PassengerId    Survived      Pclass         Age       SibSp  \\\n",
                            "count   891.000000  891.000000  891.000000  714.000000  891.000000   \n",
                            "mean    446.000000    0.383838    2.308642   29.699118    0.523008   \n",
                            "std     257.353842    0.486592    0.836071   14.526497    1.102743   \n",
                            "min       1.000000    0.000000    1.000000    0.420000    0.000000   \n",
                            "25%     223.500000    0.000000    2.000000   20.125000    0.000000   \n",
                            "50%     446.000000    0.000000    3.000000   28.000000    0.000000   \n",
                            "75%     668.500000    1.000000    3.000000   38.000000    1.000000   \n",
                            "max     891.000000    1.000000    3.000000   80.000000    8.000000   \n",
                            "\n",
                            "            Parch        Fare  \n",
                            "count  891.000000  891.000000  \n",
                            "mean     0.381594   32.204208  \n",
                            "std      0.806057   49.693429  \n",
                            "min      0.000000    0.000000  \n",
                            "25%      0.000000    7.910400  \n",
                            "50%      0.000000   14.454200  \n",
                            "75%      0.000000   31.000000  \n",
                            "max      6.000000  512.329200  "
                        ],
                        "text/html": [
                            "<div>\n",
                            "<style scoped>\n",
                            "    .dataframe tbody tr th:only-of-type {\n",
                            "        vertical-align: middle;\n",
                            "    }\n",
                            "\n",
                            "    .dataframe tbody tr th {\n",
                            "        vertical-align: top;\n",
                            "    }\n",
                            "\n",
                            "    .dataframe thead th {\n",
                            "        text-align: right;\n",
                            "    }\n",
                            "</style>\n",
                            "<table border=\"1\" class=\"dataframe\">\n",
                            "  <thead>\n",
                            "    <tr style=\"text-align: right;\">\n",
                            "      <th></th>\n",
                            "      <th>PassengerId</th>\n",
                            "      <th>Survived</th>\n",
                            "      <th>Pclass</th>\n",
                            "      <th>Age</th>\n",
                            "      <th>SibSp</th>\n",
                            "      <th>Parch</th>\n",
                            "      <th>Fare</th>\n",
                            "    </tr>\n",
                            "  </thead>\n",
                            "  <tbody>\n",
                            "    <tr>\n",
                            "      <th>count</th>\n",
                            "      <td>891.000000</td>\n",
                            "      <td>891.000000</td>\n",
                            "      <td>891.000000</td>\n",
                            "      <td>714.000000</td>\n",
                            "      <td>891.000000</td>\n",
                            "      <td>891.000000</td>\n",
                            "      <td>891.000000</td>\n",
                            "    </tr>\n",
                            "    <tr>\n",
                            "      <th>mean</th>\n",
                            "      <td>446.000000</td>\n",
                            "      <td>0.383838</td>\n",
                            "      <td>2.308642</td>\n",
                            "      <td>29.699118</td>\n",
                            "      <td>0.523008</td>\n",
                            "      <td>0.381594</td>\n",
                            "      <td>32.204208</td>\n",
                            "    </tr>\n",
                            "    <tr>\n",
                            "      <th>std</th>\n",
                            "      <td>257.353842</td>\n",
                            "      <td>0.486592</td>\n",
                            "      <td>0.836071</td>\n",
                            "      <td>14.526497</td>\n",
                            "      <td>1.102743</td>\n",
                            "      <td>0.806057</td>\n",
                            "      <td>49.693429</td>\n",
                            "    </tr>\n",
                            "    <tr>\n",
                            "      <th>min</th>\n",
                            "      <td>1.000000</td>\n",
                            "      <td>0.000000</td>\n",
                            "      <td>1.000000</td>\n",
                            "      <td>0.420000</td>\n",
                            "      <td>0.000000</td>\n",
                            "      <td>0.000000</td>\n",
                            "      <td>0.000000</td>\n",
                            "    </tr>\n",
                            "    <tr>\n",
                            "      <th>25%</th>\n",
                            "      <td>223.500000</td>\n",
                            "      <td>0.000000</td>\n",
                            "      <td>2.000000</td>\n",
                            "      <td>20.125000</td>\n",
                            "      <td>0.000000</td>\n",
                            "      <td>0.000000</td>\n",
                            "      <td>7.910400</td>\n",
                            "    </tr>\n",
                            "    <tr>\n",
                            "      <th>50%</th>\n",
                            "      <td>446.000000</td>\n",
                            "      <td>0.000000</td>\n",
                            "      <td>3.000000</td>\n",
                            "      <td>28.000000</td>\n",
                            "      <td>0.000000</td>\n",
                            "      <td>0.000000</td>\n",
                            "      <td>14.454200</td>\n",
                            "    </tr>\n",
                            "    <tr>\n",
                            "      <th>75%</th>\n",
                            "      <td>668.500000</td>\n",
                            "      <td>1.000000</td>\n",
                            "      <td>3.000000</td>\n",
                            "      <td>38.000000</td>\n",
                            "      <td>1.000000</td>\n",
                            "      <td>0.000000</td>\n",
                            "      <td>31.000000</td>\n",
                            "    </tr>\n",
                            "    <tr>\n",
                            "      <th>max</th>\n",
                            "      <td>891.000000</td>\n",
                            "      <td>1.000000</td>\n",
                            "      <td>3.000000</td>\n",
                            "      <td>80.000000</td>\n",
                            "      <td>8.000000</td>\n",
                            "      <td>6.000000</td>\n",
                            "      <td>512.329200</td>\n",
                            "    </tr>\n",
                            "  </tbody>\n",
                            "</table>\n",
                            "</div>"
                        ]
                    },
                    "metadata": {},
                    "execution_count": 9
                }
            ],
            "metadata": {}
        },
        {
            "cell_type": "code",
            "execution_count": 10,
            "source": [
                "train_df.describe(include=[\"O\"])"
            ],
            "outputs": [
                {
                    "output_type": "execute_result",
                    "data": {
                        "text/plain": [
                            "                                  Name   Sex    Ticket        Cabin Embarked\n",
                            "count                              891   891       891          204      889\n",
                            "unique                             891     2       681          147        3\n",
                            "top     Baclini, Miss. Marie Catherine  male  CA. 2343  C23 C25 C27        S\n",
                            "freq                                 1   577         7            4      644"
                        ],
                        "text/html": [
                            "<div>\n",
                            "<style scoped>\n",
                            "    .dataframe tbody tr th:only-of-type {\n",
                            "        vertical-align: middle;\n",
                            "    }\n",
                            "\n",
                            "    .dataframe tbody tr th {\n",
                            "        vertical-align: top;\n",
                            "    }\n",
                            "\n",
                            "    .dataframe thead th {\n",
                            "        text-align: right;\n",
                            "    }\n",
                            "</style>\n",
                            "<table border=\"1\" class=\"dataframe\">\n",
                            "  <thead>\n",
                            "    <tr style=\"text-align: right;\">\n",
                            "      <th></th>\n",
                            "      <th>Name</th>\n",
                            "      <th>Sex</th>\n",
                            "      <th>Ticket</th>\n",
                            "      <th>Cabin</th>\n",
                            "      <th>Embarked</th>\n",
                            "    </tr>\n",
                            "  </thead>\n",
                            "  <tbody>\n",
                            "    <tr>\n",
                            "      <th>count</th>\n",
                            "      <td>891</td>\n",
                            "      <td>891</td>\n",
                            "      <td>891</td>\n",
                            "      <td>204</td>\n",
                            "      <td>889</td>\n",
                            "    </tr>\n",
                            "    <tr>\n",
                            "      <th>unique</th>\n",
                            "      <td>891</td>\n",
                            "      <td>2</td>\n",
                            "      <td>681</td>\n",
                            "      <td>147</td>\n",
                            "      <td>3</td>\n",
                            "    </tr>\n",
                            "    <tr>\n",
                            "      <th>top</th>\n",
                            "      <td>Baclini, Miss. Marie Catherine</td>\n",
                            "      <td>male</td>\n",
                            "      <td>CA. 2343</td>\n",
                            "      <td>C23 C25 C27</td>\n",
                            "      <td>S</td>\n",
                            "    </tr>\n",
                            "    <tr>\n",
                            "      <th>freq</th>\n",
                            "      <td>1</td>\n",
                            "      <td>577</td>\n",
                            "      <td>7</td>\n",
                            "      <td>4</td>\n",
                            "      <td>644</td>\n",
                            "    </tr>\n",
                            "  </tbody>\n",
                            "</table>\n",
                            "</div>"
                        ]
                    },
                    "metadata": {},
                    "execution_count": 10
                }
            ],
            "metadata": {}
        },
        {
            "cell_type": "code",
            "execution_count": 14,
            "source": [
                "train_df[[\"Pclass\",\"Survived\"]].groupby([\"Pclass\"],as_index=False).mean().sort_values(by=\"Survived\")"
            ],
            "outputs": [
                {
                    "output_type": "execute_result",
                    "data": {
                        "text/plain": [
                            "   Pclass  Survived\n",
                            "2       3  0.242363\n",
                            "1       2  0.472826\n",
                            "0       1  0.629630"
                        ],
                        "text/html": [
                            "<div>\n",
                            "<style scoped>\n",
                            "    .dataframe tbody tr th:only-of-type {\n",
                            "        vertical-align: middle;\n",
                            "    }\n",
                            "\n",
                            "    .dataframe tbody tr th {\n",
                            "        vertical-align: top;\n",
                            "    }\n",
                            "\n",
                            "    .dataframe thead th {\n",
                            "        text-align: right;\n",
                            "    }\n",
                            "</style>\n",
                            "<table border=\"1\" class=\"dataframe\">\n",
                            "  <thead>\n",
                            "    <tr style=\"text-align: right;\">\n",
                            "      <th></th>\n",
                            "      <th>Pclass</th>\n",
                            "      <th>Survived</th>\n",
                            "    </tr>\n",
                            "  </thead>\n",
                            "  <tbody>\n",
                            "    <tr>\n",
                            "      <th>2</th>\n",
                            "      <td>3</td>\n",
                            "      <td>0.242363</td>\n",
                            "    </tr>\n",
                            "    <tr>\n",
                            "      <th>1</th>\n",
                            "      <td>2</td>\n",
                            "      <td>0.472826</td>\n",
                            "    </tr>\n",
                            "    <tr>\n",
                            "      <th>0</th>\n",
                            "      <td>1</td>\n",
                            "      <td>0.629630</td>\n",
                            "    </tr>\n",
                            "  </tbody>\n",
                            "</table>\n",
                            "</div>"
                        ]
                    },
                    "metadata": {},
                    "execution_count": 14
                }
            ],
            "metadata": {}
        },
        {
            "cell_type": "code",
            "execution_count": 20,
            "source": [
                "train_df[[\"Sex\",\"Survived\"]].groupby([\"Sex\"],as_index=False).mean().sort_values(by=\"Survived\")"
            ],
            "outputs": [
                {
                    "output_type": "execute_result",
                    "data": {
                        "text/plain": [
                            "      Sex  Survived\n",
                            "1    male  0.188908\n",
                            "0  female  0.742038"
                        ],
                        "text/html": [
                            "<div>\n",
                            "<style scoped>\n",
                            "    .dataframe tbody tr th:only-of-type {\n",
                            "        vertical-align: middle;\n",
                            "    }\n",
                            "\n",
                            "    .dataframe tbody tr th {\n",
                            "        vertical-align: top;\n",
                            "    }\n",
                            "\n",
                            "    .dataframe thead th {\n",
                            "        text-align: right;\n",
                            "    }\n",
                            "</style>\n",
                            "<table border=\"1\" class=\"dataframe\">\n",
                            "  <thead>\n",
                            "    <tr style=\"text-align: right;\">\n",
                            "      <th></th>\n",
                            "      <th>Sex</th>\n",
                            "      <th>Survived</th>\n",
                            "    </tr>\n",
                            "  </thead>\n",
                            "  <tbody>\n",
                            "    <tr>\n",
                            "      <th>1</th>\n",
                            "      <td>male</td>\n",
                            "      <td>0.188908</td>\n",
                            "    </tr>\n",
                            "    <tr>\n",
                            "      <th>0</th>\n",
                            "      <td>female</td>\n",
                            "      <td>0.742038</td>\n",
                            "    </tr>\n",
                            "  </tbody>\n",
                            "</table>\n",
                            "</div>"
                        ]
                    },
                    "metadata": {},
                    "execution_count": 20
                }
            ],
            "metadata": {}
        },
        {
            "cell_type": "code",
            "execution_count": 24,
            "source": [
                "train_df[[\"SibSp\",\"Survived\"]].groupby([\"SibSp\"],as_index=False).mean().sort_values(by=\"Survived\",ascending=False)"
            ],
            "outputs": [
                {
                    "output_type": "execute_result",
                    "data": {
                        "text/plain": [
                            "   SibSp  Survived\n",
                            "1      1  0.535885\n",
                            "2      2  0.464286\n",
                            "0      0  0.345395\n",
                            "3      3  0.250000\n",
                            "4      4  0.166667\n",
                            "5      5  0.000000\n",
                            "6      8  0.000000"
                        ],
                        "text/html": [
                            "<div>\n",
                            "<style scoped>\n",
                            "    .dataframe tbody tr th:only-of-type {\n",
                            "        vertical-align: middle;\n",
                            "    }\n",
                            "\n",
                            "    .dataframe tbody tr th {\n",
                            "        vertical-align: top;\n",
                            "    }\n",
                            "\n",
                            "    .dataframe thead th {\n",
                            "        text-align: right;\n",
                            "    }\n",
                            "</style>\n",
                            "<table border=\"1\" class=\"dataframe\">\n",
                            "  <thead>\n",
                            "    <tr style=\"text-align: right;\">\n",
                            "      <th></th>\n",
                            "      <th>SibSp</th>\n",
                            "      <th>Survived</th>\n",
                            "    </tr>\n",
                            "  </thead>\n",
                            "  <tbody>\n",
                            "    <tr>\n",
                            "      <th>1</th>\n",
                            "      <td>1</td>\n",
                            "      <td>0.535885</td>\n",
                            "    </tr>\n",
                            "    <tr>\n",
                            "      <th>2</th>\n",
                            "      <td>2</td>\n",
                            "      <td>0.464286</td>\n",
                            "    </tr>\n",
                            "    <tr>\n",
                            "      <th>0</th>\n",
                            "      <td>0</td>\n",
                            "      <td>0.345395</td>\n",
                            "    </tr>\n",
                            "    <tr>\n",
                            "      <th>3</th>\n",
                            "      <td>3</td>\n",
                            "      <td>0.250000</td>\n",
                            "    </tr>\n",
                            "    <tr>\n",
                            "      <th>4</th>\n",
                            "      <td>4</td>\n",
                            "      <td>0.166667</td>\n",
                            "    </tr>\n",
                            "    <tr>\n",
                            "      <th>5</th>\n",
                            "      <td>5</td>\n",
                            "      <td>0.000000</td>\n",
                            "    </tr>\n",
                            "    <tr>\n",
                            "      <th>6</th>\n",
                            "      <td>8</td>\n",
                            "      <td>0.000000</td>\n",
                            "    </tr>\n",
                            "  </tbody>\n",
                            "</table>\n",
                            "</div>"
                        ]
                    },
                    "metadata": {},
                    "execution_count": 24
                }
            ],
            "metadata": {}
        },
        {
            "cell_type": "code",
            "execution_count": 26,
            "source": [
                "train_df[[\"Parch\",\"Survived\"]].groupby([\"Parch\"],as_index=False).mean().sort_values(by=\"Survived\",ascending=False)"
            ],
            "outputs": [
                {
                    "output_type": "execute_result",
                    "data": {
                        "text/plain": [
                            "   Parch  Survived\n",
                            "3      3  0.600000\n",
                            "1      1  0.550847\n",
                            "2      2  0.500000\n",
                            "0      0  0.343658\n",
                            "5      5  0.200000\n",
                            "4      4  0.000000\n",
                            "6      6  0.000000"
                        ],
                        "text/html": [
                            "<div>\n",
                            "<style scoped>\n",
                            "    .dataframe tbody tr th:only-of-type {\n",
                            "        vertical-align: middle;\n",
                            "    }\n",
                            "\n",
                            "    .dataframe tbody tr th {\n",
                            "        vertical-align: top;\n",
                            "    }\n",
                            "\n",
                            "    .dataframe thead th {\n",
                            "        text-align: right;\n",
                            "    }\n",
                            "</style>\n",
                            "<table border=\"1\" class=\"dataframe\">\n",
                            "  <thead>\n",
                            "    <tr style=\"text-align: right;\">\n",
                            "      <th></th>\n",
                            "      <th>Parch</th>\n",
                            "      <th>Survived</th>\n",
                            "    </tr>\n",
                            "  </thead>\n",
                            "  <tbody>\n",
                            "    <tr>\n",
                            "      <th>3</th>\n",
                            "      <td>3</td>\n",
                            "      <td>0.600000</td>\n",
                            "    </tr>\n",
                            "    <tr>\n",
                            "      <th>1</th>\n",
                            "      <td>1</td>\n",
                            "      <td>0.550847</td>\n",
                            "    </tr>\n",
                            "    <tr>\n",
                            "      <th>2</th>\n",
                            "      <td>2</td>\n",
                            "      <td>0.500000</td>\n",
                            "    </tr>\n",
                            "    <tr>\n",
                            "      <th>0</th>\n",
                            "      <td>0</td>\n",
                            "      <td>0.343658</td>\n",
                            "    </tr>\n",
                            "    <tr>\n",
                            "      <th>5</th>\n",
                            "      <td>5</td>\n",
                            "      <td>0.200000</td>\n",
                            "    </tr>\n",
                            "    <tr>\n",
                            "      <th>4</th>\n",
                            "      <td>4</td>\n",
                            "      <td>0.000000</td>\n",
                            "    </tr>\n",
                            "    <tr>\n",
                            "      <th>6</th>\n",
                            "      <td>6</td>\n",
                            "      <td>0.000000</td>\n",
                            "    </tr>\n",
                            "  </tbody>\n",
                            "</table>\n",
                            "</div>"
                        ]
                    },
                    "metadata": {},
                    "execution_count": 26
                }
            ],
            "metadata": {}
        },
        {
            "cell_type": "code",
            "execution_count": 30,
            "source": [
                "g = sns.FacetGrid(train_df,col=\"Survived\")\r\n",
                "g.map(plt.hist,\"Age\",bins=28)"
            ],
            "outputs": [
                {
                    "output_type": "execute_result",
                    "data": {
                        "text/plain": [
                            "<seaborn.axisgrid.FacetGrid at 0x29dcea821c0>"
                        ]
                    },
                    "metadata": {},
                    "execution_count": 30
                },
                {
                    "output_type": "display_data",
                    "data": {
                        "text/plain": [
                            "<Figure size 432x216 with 2 Axes>"
                        ],
                        "image/png": "[encoded data removed]"
                    },
                    "metadata": {
                        "needs_background": "light"
                    }
                }
            ],
            "metadata": {}
        },
        {
            "cell_type": "code",
            "execution_count": 81,
            "source": [
                "fig = plt.figure(figsize=(12,5))\r\n",
                "sns.violinplot(x=\"Pclass\", y=\"Age\",hue=\"Sex\",split=True,data=train_df)"
            ],
            "outputs": [
                {
                    "output_type": "execute_result",
                    "data": {
                        "text/plain": [
                            "<AxesSubplot:xlabel='Pclass', ylabel='Age'>"
                        ]
                    },
                    "metadata": {},
                    "execution_count": 81
                },
                {
                    "output_type": "display_data",
                    "data": {
                        "text/plain": [
                            "<Figure size 864x360 with 1 Axes>"
                        ],
                        "image/png": "[encoded data removed]"
                    },
                    "metadata": {
                        "needs_background": "light"
                    }
                }
            ],
            "metadata": {}
        },
        {
            "cell_type": "code",
            "execution_count": 59,
            "source": [
                "fig = plt.figure(figsize=(5,5))\r\n",
                "sns.displot(x=train_df[train_df[\"Survived\"]==1][\"Age\"])\r\n",
                "plt.ylabel(\"Survival count \")\r\n",
                "plt.xlabel(\"Age\")\r\n",
                "plt.title(\"Survived passangers filtered by Age\")"
            ],
            "outputs": [
                {
                    "output_type": "execute_result",
                    "data": {
                        "text/plain": [
                            "Text(0.5, 1.0, 'Survived passangers filtered by Age')"
                        ]
                    },
                    "metadata": {},
                    "execution_count": 59
                },
                {
                    "output_type": "display_data",
                    "data": {
                        "text/plain": [
                            "<Figure size 360x360 with 0 Axes>"
                        ]
                    },
                    "metadata": {}
                },
                {
                    "output_type": "display_data",
                    "data": {
                        "text/plain": [
                            "<Figure size 360x360 with 1 Axes>"
                        ],
                        "image/png": "[encoded data removed]"
                    },
                    "metadata": {
                        "needs_background": "light"
                    }
                }
            ],
            "metadata": {}
        },
        {
            "cell_type": "code",
            "execution_count": 79,
            "source": [
                "grid = sns.FacetGrid(train_df,col=\"Survived\",row=\"Pclass\",size=2.5,aspect=1.8)\r\n",
                "grid.map(plt.hist,\"Age\",alpha=.5,bins=28)\r\n",
                "grid.add_legend()"
            ],
            "outputs": [
                {
                    "output_type": "stream",
                    "name": "stderr",
                    "text": [
                        "C:\\ProgramData\\Anaconda3\\lib\\site-packages\\seaborn\\axisgrid.py:316: UserWarning: The `size` parameter has been renamed to `height`; please update your code.\n",
                        "  warnings.warn(msg, UserWarning)\n"
                    ]
                },
                {
                    "output_type": "execute_result",
                    "data": {
                        "text/plain": [
                            "<seaborn.axisgrid.FacetGrid at 0x29dcf162ee0>"
                        ]
                    },
                    "metadata": {},
                    "execution_count": 79
                },
                {
                    "output_type": "display_data",
                    "data": {
                        "text/plain": [
                            "<Figure size 656.8x540 with 6 Axes>"
                        ],
                        "image/png": "[encoded data removed]"
                    },
                    "metadata": {
                        "needs_background": "light"
                    }
                }
            ],
            "metadata": {}
        },
        {
            "cell_type": "code",
            "execution_count": 91,
            "source": [
                "fig = plt.figure(figsize=(5,12))\r\n",
                "sns.displot(x=\"Sex\",data=train_df,hue=\"Sex\")\r\n"
            ],
            "outputs": [
                {
                    "output_type": "execute_result",
                    "data": {
                        "text/plain": [
                            "<seaborn.axisgrid.FacetGrid at 0x29dd447b580>"
                        ]
                    },
                    "metadata": {},
                    "execution_count": 91
                },
                {
                    "output_type": "display_data",
                    "data": {
                        "text/plain": [
                            "<Figure size 360x864 with 0 Axes>"
                        ]
                    },
                    "metadata": {}
                },
                {
                    "output_type": "display_data",
                    "data": {
                        "text/plain": [
                            "<Figure size 432.85x360 with 1 Axes>"
                        ],
                        "image/png": "[encoded data removed]"
                    },
                    "metadata": {
                        "needs_background": "light"
                    }
                }
            ],
            "metadata": {}
        },
        {
            "cell_type": "code",
            "execution_count": 99,
            "source": [
                "grid= sns.FacetGrid(train_df,row=\"Embarked\",size=2.2,aspect=1.8)\r\n",
                "grid.map(sns.pointplot,\"Pclass\",\"Survived\",\"Sex\",palette=\"deep\")\r\n",
                "grid.add_legend()"
            ],
            "outputs": [
                {
                    "output_type": "stream",
                    "name": "stderr",
                    "text": [
                        "C:\\ProgramData\\Anaconda3\\lib\\site-packages\\seaborn\\axisgrid.py:316: UserWarning: The `size` parameter has been renamed to `height`; please update your code.\n",
                        "  warnings.warn(msg, UserWarning)\n",
                        "C:\\ProgramData\\Anaconda3\\lib\\site-packages\\seaborn\\axisgrid.py:645: UserWarning: Using the pointplot function without specifying `order` is likely to produce an incorrect plot.\n",
                        "  warnings.warn(warning)\n",
                        "C:\\ProgramData\\Anaconda3\\lib\\site-packages\\seaborn\\axisgrid.py:650: UserWarning: Using the pointplot function without specifying `hue_order` is likely to produce an incorrect plot.\n",
                        "  warnings.warn(warning)\n"
                    ]
                },
                {
                    "output_type": "execute_result",
                    "data": {
                        "text/plain": [
                            "<seaborn.axisgrid.FacetGrid at 0x29dd3c50b80>"
                        ]
                    },
                    "metadata": {},
                    "execution_count": 99
                },
                {
                    "output_type": "display_data",
                    "data": {
                        "text/plain": [
                            "<Figure size 357.97x475.2 with 3 Axes>"
                        ],
                        "image/png": "[encoded data removed]"
                    },
                    "metadata": {
                        "needs_background": "light"
                    }
                }
            ],
            "metadata": {}
        },
        {
            "cell_type": "code",
            "execution_count": 100,
            "source": [
                "grid = sns.FacetGrid(train_df,row=\"Embarked\",col=\"Survived\",size=2.2,aspect=1.6)\r\n",
                "grid.map(sns.barplot,\"Sex\",\"Fare\" ,alpha=0.5,ci=None)\r\n",
                "grid.add_legend()"
            ],
            "outputs": [
                {
                    "output_type": "stream",
                    "name": "stderr",
                    "text": [
                        "C:\\ProgramData\\Anaconda3\\lib\\site-packages\\seaborn\\axisgrid.py:316: UserWarning: The `size` parameter has been renamed to `height`; please update your code.\n",
                        "  warnings.warn(msg, UserWarning)\n",
                        "C:\\ProgramData\\Anaconda3\\lib\\site-packages\\seaborn\\axisgrid.py:645: UserWarning: Using the barplot function without specifying `order` is likely to produce an incorrect plot.\n",
                        "  warnings.warn(warning)\n"
                    ]
                },
                {
                    "output_type": "execute_result",
                    "data": {
                        "text/plain": [
                            "<seaborn.axisgrid.FacetGrid at 0x29dd5bff9d0>"
                        ]
                    },
                    "metadata": {},
                    "execution_count": 100
                },
                {
                    "output_type": "display_data",
                    "data": {
                        "text/plain": [
                            "<Figure size 515.68x475.2 with 6 Axes>"
                        ],
                        "image/png": "[encoded data removed]"
                    },
                    "metadata": {
                        "needs_background": "light"
                    }
                }
            ],
            "metadata": {}
        },
        {
            "cell_type": "code",
            "execution_count": 101,
            "source": [
                "train_df= train_df.drop([\"Ticket\",\"Cabin\"],axis=1)\r\n",
                "test_df = test_df.drop([\"Ticket\",\"Cabin\"],axis=1)\r\n",
                "combined = [train_df,test_df]"
            ],
            "outputs": [],
            "metadata": {}
        },
        {
            "cell_type": "code",
            "execution_count": 103,
            "source": [
                "train_df.shape"
            ],
            "outputs": [
                {
                    "output_type": "execute_result",
                    "data": {
                        "text/plain": [
                            "(891, 10)"
                        ]
                    },
                    "metadata": {},
                    "execution_count": 103
                }
            ],
            "metadata": {}
        },
        {
            "cell_type": "code",
            "execution_count": 107,
            "source": [
                "for  dataset in combined:\r\n",
                "    dataset[\"Title\"] = dataset.Name.str.extract(' ([A-Za-z]+)\\.',expand=False)\r\n",
                "pd.crosstab(train_df[\"Title\"],train_df[\"Sex\"])"
            ],
            "outputs": [
                {
                    "output_type": "execute_result",
                    "data": {
                        "text/plain": [
                            "Sex       female  male\n",
                            "Title                 \n",
                            "Capt           0     1\n",
                            "Col            0     2\n",
                            "Countess       1     0\n",
                            "Don            0     1\n",
                            "Dr             1     6\n",
                            "Jonkheer       0     1\n",
                            "Lady           1     0\n",
                            "Major          0     2\n",
                            "Master         0    40\n",
                            "Miss         182     0\n",
                            "Mlle           2     0\n",
                            "Mme            1     0\n",
                            "Mr             0   517\n",
                            "Mrs          125     0\n",
                            "Ms             1     0\n",
                            "Rev            0     6\n",
                            "Sir            0     1"
                        ],
                        "text/html": [
                            "<div>\n",
                            "<style scoped>\n",
                            "    .dataframe tbody tr th:only-of-type {\n",
                            "        vertical-align: middle;\n",
                            "    }\n",
                            "\n",
                            "    .dataframe tbody tr th {\n",
                            "        vertical-align: top;\n",
                            "    }\n",
                            "\n",
                            "    .dataframe thead th {\n",
                            "        text-align: right;\n",
                            "    }\n",
                            "</style>\n",
                            "<table border=\"1\" class=\"dataframe\">\n",
                            "  <thead>\n",
                            "    <tr style=\"text-align: right;\">\n",
                            "      <th>Sex</th>\n",
                            "      <th>female</th>\n",
                            "      <th>male</th>\n",
                            "    </tr>\n",
                            "    <tr>\n",
                            "      <th>Title</th>\n",
                            "      <th></th>\n",
                            "      <th></th>\n",
                            "    </tr>\n",
                            "  </thead>\n",
                            "  <tbody>\n",
                            "    <tr>\n",
                            "      <th>Capt</th>\n",
                            "      <td>0</td>\n",
                            "      <td>1</td>\n",
                            "    </tr>\n",
                            "    <tr>\n",
                            "      <th>Col</th>\n",
                            "      <td>0</td>\n",
                            "      <td>2</td>\n",
                            "    </tr>\n",
                            "    <tr>\n",
                            "      <th>Countess</th>\n",
                            "      <td>1</td>\n",
                            "      <td>0</td>\n",
                            "    </tr>\n",
                            "    <tr>\n",
                            "      <th>Don</th>\n",
                            "      <td>0</td>\n",
                            "      <td>1</td>\n",
                            "    </tr>\n",
                            "    <tr>\n",
                            "      <th>Dr</th>\n",
                            "      <td>1</td>\n",
                            "      <td>6</td>\n",
                            "    </tr>\n",
                            "    <tr>\n",
                            "      <th>Jonkheer</th>\n",
                            "      <td>0</td>\n",
                            "      <td>1</td>\n",
                            "    </tr>\n",
                            "    <tr>\n",
                            "      <th>Lady</th>\n",
                            "      <td>1</td>\n",
                            "      <td>0</td>\n",
                            "    </tr>\n",
                            "    <tr>\n",
                            "      <th>Major</th>\n",
                            "      <td>0</td>\n",
                            "      <td>2</td>\n",
                            "    </tr>\n",
                            "    <tr>\n",
                            "      <th>Master</th>\n",
                            "      <td>0</td>\n",
                            "      <td>40</td>\n",
                            "    </tr>\n",
                            "    <tr>\n",
                            "      <th>Miss</th>\n",
                            "      <td>182</td>\n",
                            "      <td>0</td>\n",
                            "    </tr>\n",
                            "    <tr>\n",
                            "      <th>Mlle</th>\n",
                            "      <td>2</td>\n",
                            "      <td>0</td>\n",
                            "    </tr>\n",
                            "    <tr>\n",
                            "      <th>Mme</th>\n",
                            "      <td>1</td>\n",
                            "      <td>0</td>\n",
                            "    </tr>\n",
                            "    <tr>\n",
                            "      <th>Mr</th>\n",
                            "      <td>0</td>\n",
                            "      <td>517</td>\n",
                            "    </tr>\n",
                            "    <tr>\n",
                            "      <th>Mrs</th>\n",
                            "      <td>125</td>\n",
                            "      <td>0</td>\n",
                            "    </tr>\n",
                            "    <tr>\n",
                            "      <th>Ms</th>\n",
                            "      <td>1</td>\n",
                            "      <td>0</td>\n",
                            "    </tr>\n",
                            "    <tr>\n",
                            "      <th>Rev</th>\n",
                            "      <td>0</td>\n",
                            "      <td>6</td>\n",
                            "    </tr>\n",
                            "    <tr>\n",
                            "      <th>Sir</th>\n",
                            "      <td>0</td>\n",
                            "      <td>1</td>\n",
                            "    </tr>\n",
                            "  </tbody>\n",
                            "</table>\n",
                            "</div>"
                        ]
                    },
                    "metadata": {},
                    "execution_count": 107
                }
            ],
            "metadata": {}
        },
        {
            "cell_type": "code",
            "execution_count": 108,
            "source": [
                "for dataset in combined:\r\n",
                "    dataset[\"Title\"] = dataset[\"Title\"].replace(['Lady', 'Countess','Capt', 'Col',\\\r\n",
                " \t'Don', 'Dr', 'Major', 'Rev', 'Sir', 'Jonkheer', 'Dona'], 'Rare')\r\n",
                "\r\n",
                "    dataset[\"Title\"] =dataset[\"Title\"].replace(\"Mlle\",\"Miss\")\r\n",
                "    dataset[\"Title\"] =dataset[\"Title\"].replace(\"Ms\",\"Miss\")\r\n",
                "    dataset[\"Title\"] =dataset[\"Title\"].replace(\"Mme\",\"Mrs\") \r\n",
                "train_df[['Title', 'Survived']].groupby(['Title'], as_index=False).mean()"
            ],
            "outputs": [
                {
                    "output_type": "execute_result",
                    "data": {
                        "text/plain": [
                            "    Title  Survived\n",
                            "0  Master  0.575000\n",
                            "1    Miss  0.702703\n",
                            "2      Mr  0.156673\n",
                            "3     Mrs  0.793651\n",
                            "4    Rare  0.347826"
                        ],
                        "text/html": [
                            "<div>\n",
                            "<style scoped>\n",
                            "    .dataframe tbody tr th:only-of-type {\n",
                            "        vertical-align: middle;\n",
                            "    }\n",
                            "\n",
                            "    .dataframe tbody tr th {\n",
                            "        vertical-align: top;\n",
                            "    }\n",
                            "\n",
                            "    .dataframe thead th {\n",
                            "        text-align: right;\n",
                            "    }\n",
                            "</style>\n",
                            "<table border=\"1\" class=\"dataframe\">\n",
                            "  <thead>\n",
                            "    <tr style=\"text-align: right;\">\n",
                            "      <th></th>\n",
                            "      <th>Title</th>\n",
                            "      <th>Survived</th>\n",
                            "    </tr>\n",
                            "  </thead>\n",
                            "  <tbody>\n",
                            "    <tr>\n",
                            "      <th>0</th>\n",
                            "      <td>Master</td>\n",
                            "      <td>0.575000</td>\n",
                            "    </tr>\n",
                            "    <tr>\n",
                            "      <th>1</th>\n",
                            "      <td>Miss</td>\n",
                            "      <td>0.702703</td>\n",
                            "    </tr>\n",
                            "    <tr>\n",
                            "      <th>2</th>\n",
                            "      <td>Mr</td>\n",
                            "      <td>0.156673</td>\n",
                            "    </tr>\n",
                            "    <tr>\n",
                            "      <th>3</th>\n",
                            "      <td>Mrs</td>\n",
                            "      <td>0.793651</td>\n",
                            "    </tr>\n",
                            "    <tr>\n",
                            "      <th>4</th>\n",
                            "      <td>Rare</td>\n",
                            "      <td>0.347826</td>\n",
                            "    </tr>\n",
                            "  </tbody>\n",
                            "</table>\n",
                            "</div>"
                        ]
                    },
                    "metadata": {},
                    "execution_count": 108
                }
            ],
            "metadata": {}
        },
        {
            "cell_type": "code",
            "execution_count": 109,
            "source": [
                "title_mapping = {\"Mr\":1,\"Mrs\":2,\"Miss\":3,\"Master\":4,\"Rare\":5}\r\n",
                "for dataset in combined:\r\n",
                "    dataset[\"Title\"] = dataset[\"Title\"].map(title_mapping)\r\n",
                "    dataset[\"Title\"] = dataset[\"Title\"].fillna(0)"
            ],
            "outputs": [],
            "metadata": {}
        },
        {
            "cell_type": "code",
            "execution_count": 111,
            "source": [
                "train_df.head()"
            ],
            "outputs": [
                {
                    "output_type": "execute_result",
                    "data": {
                        "text/plain": [
                            "   PassengerId  Survived  Pclass  \\\n",
                            "0            1         0       3   \n",
                            "1            2         1       1   \n",
                            "2            3         1       3   \n",
                            "3            4         1       1   \n",
                            "4            5         0       3   \n",
                            "\n",
                            "                                                Name     Sex   Age  SibSp  \\\n",
                            "0                            Braund, Mr. Owen Harris    male  22.0      1   \n",
                            "1  Cumings, Mrs. John Bradley (Florence Briggs Th...  female  38.0      1   \n",
                            "2                             Heikkinen, Miss. Laina  female  26.0      0   \n",
                            "3       Futrelle, Mrs. Jacques Heath (Lily May Peel)  female  35.0      1   \n",
                            "4                           Allen, Mr. William Henry    male  35.0      0   \n",
                            "\n",
                            "   Parch     Fare Embarked  Title  \n",
                            "0      0   7.2500        S      1  \n",
                            "1      0  71.2833        C      2  \n",
                            "2      0   7.9250        S      3  \n",
                            "3      0  53.1000        S      2  \n",
                            "4      0   8.0500        S      1  "
                        ],
                        "text/html": [
                            "<div>\n",
                            "<style scoped>\n",
                            "    .dataframe tbody tr th:only-of-type {\n",
                            "        vertical-align: middle;\n",
                            "    }\n",
                            "\n",
                            "    .dataframe tbody tr th {\n",
                            "        vertical-align: top;\n",
                            "    }\n",
                            "\n",
                            "    .dataframe thead th {\n",
                            "        text-align: right;\n",
                            "    }\n",
                            "</style>\n",
                            "<table border=\"1\" class=\"dataframe\">\n",
                            "  <thead>\n",
                            "    <tr style=\"text-align: right;\">\n",
                            "      <th></th>\n",
                            "      <th>PassengerId</th>\n",
                            "      <th>Survived</th>\n",
                            "      <th>Pclass</th>\n",
                            "      <th>Name</th>\n",
                            "      <th>Sex</th>\n",
                            "      <th>Age</th>\n",
                            "      <th>SibSp</th>\n",
                            "      <th>Parch</th>\n",
                            "      <th>Fare</th>\n",
                            "      <th>Embarked</th>\n",
                            "      <th>Title</th>\n",
                            "    </tr>\n",
                            "  </thead>\n",
                            "  <tbody>\n",
                            "    <tr>\n",
                            "      <th>0</th>\n",
                            "      <td>1</td>\n",
                            "      <td>0</td>\n",
                            "      <td>3</td>\n",
                            "      <td>Braund, Mr. Owen Harris</td>\n",
                            "      <td>male</td>\n",
                            "      <td>22.0</td>\n",
                            "      <td>1</td>\n",
                            "      <td>0</td>\n",
                            "      <td>7.2500</td>\n",
                            "      <td>S</td>\n",
                            "      <td>1</td>\n",
                            "    </tr>\n",
                            "    <tr>\n",
                            "      <th>1</th>\n",
                            "      <td>2</td>\n",
                            "      <td>1</td>\n",
                            "      <td>1</td>\n",
                            "      <td>Cumings, Mrs. John Bradley (Florence Briggs Th...</td>\n",
                            "      <td>female</td>\n",
                            "      <td>38.0</td>\n",
                            "      <td>1</td>\n",
                            "      <td>0</td>\n",
                            "      <td>71.2833</td>\n",
                            "      <td>C</td>\n",
                            "      <td>2</td>\n",
                            "    </tr>\n",
                            "    <tr>\n",
                            "      <th>2</th>\n",
                            "      <td>3</td>\n",
                            "      <td>1</td>\n",
                            "      <td>3</td>\n",
                            "      <td>Heikkinen, Miss. Laina</td>\n",
                            "      <td>female</td>\n",
                            "      <td>26.0</td>\n",
                            "      <td>0</td>\n",
                            "      <td>0</td>\n",
                            "      <td>7.9250</td>\n",
                            "      <td>S</td>\n",
                            "      <td>3</td>\n",
                            "    </tr>\n",
                            "    <tr>\n",
                            "      <th>3</th>\n",
                            "      <td>4</td>\n",
                            "      <td>1</td>\n",
                            "      <td>1</td>\n",
                            "      <td>Futrelle, Mrs. Jacques Heath (Lily May Peel)</td>\n",
                            "      <td>female</td>\n",
                            "      <td>35.0</td>\n",
                            "      <td>1</td>\n",
                            "      <td>0</td>\n",
                            "      <td>53.1000</td>\n",
                            "      <td>S</td>\n",
                            "      <td>2</td>\n",
                            "    </tr>\n",
                            "    <tr>\n",
                            "      <th>4</th>\n",
                            "      <td>5</td>\n",
                            "      <td>0</td>\n",
                            "      <td>3</td>\n",
                            "      <td>Allen, Mr. William Henry</td>\n",
                            "      <td>male</td>\n",
                            "      <td>35.0</td>\n",
                            "      <td>0</td>\n",
                            "      <td>0</td>\n",
                            "      <td>8.0500</td>\n",
                            "      <td>S</td>\n",
                            "      <td>1</td>\n",
                            "    </tr>\n",
                            "  </tbody>\n",
                            "</table>\n",
                            "</div>"
                        ]
                    },
                    "metadata": {},
                    "execution_count": 111
                }
            ],
            "metadata": {}
        },
        {
            "cell_type": "code",
            "execution_count": 113,
            "source": [
                "train_df = train_df.drop([\"PassengerId\",\"Name\"],axis=1)\r\n",
                "test_df = test_df.drop([\"Name\"],axis=1)\r\n",
                "combined  =[train_df,test_df]\r\n",
                "train_df.shape, test_df.shape"
            ],
            "outputs": [
                {
                    "output_type": "execute_result",
                    "data": {
                        "text/plain": [
                            "((891, 9), (418, 9))"
                        ]
                    },
                    "metadata": {},
                    "execution_count": 113
                }
            ],
            "metadata": {}
        },
        {
            "cell_type": "code",
            "execution_count": 115,
            "source": [
                "for dataset in combined:\r\n",
                "    dataset[\"Sex\"] = dataset[\"Sex\"].map({\"female\":1,\"male\":0}).astype(int)\r\n",
                "train_df.head()"
            ],
            "outputs": [
                {
                    "output_type": "execute_result",
                    "data": {
                        "text/plain": [
                            "   Survived  Pclass  Sex   Age  SibSp  Parch     Fare Embarked  Title\n",
                            "0         0       3    0  22.0      1      0   7.2500        S      1\n",
                            "1         1       1    1  38.0      1      0  71.2833        C      2\n",
                            "2         1       3    1  26.0      0      0   7.9250        S      3\n",
                            "3         1       1    1  35.0      1      0  53.1000        S      2\n",
                            "4         0       3    0  35.0      0      0   8.0500        S      1"
                        ],
                        "text/html": [
                            "<div>\n",
                            "<style scoped>\n",
                            "    .dataframe tbody tr th:only-of-type {\n",
                            "        vertical-align: middle;\n",
                            "    }\n",
                            "\n",
                            "    .dataframe tbody tr th {\n",
                            "        vertical-align: top;\n",
                            "    }\n",
                            "\n",
                            "    .dataframe thead th {\n",
                            "        text-align: right;\n",
                            "    }\n",
                            "</style>\n",
                            "<table border=\"1\" class=\"dataframe\">\n",
                            "  <thead>\n",
                            "    <tr style=\"text-align: right;\">\n",
                            "      <th></th>\n",
                            "      <th>Survived</th>\n",
                            "      <th>Pclass</th>\n",
                            "      <th>Sex</th>\n",
                            "      <th>Age</th>\n",
                            "      <th>SibSp</th>\n",
                            "      <th>Parch</th>\n",
                            "      <th>Fare</th>\n",
                            "      <th>Embarked</th>\n",
                            "      <th>Title</th>\n",
                            "    </tr>\n",
                            "  </thead>\n",
                            "  <tbody>\n",
                            "    <tr>\n",
                            "      <th>0</th>\n",
                            "      <td>0</td>\n",
                            "      <td>3</td>\n",
                            "      <td>0</td>\n",
                            "      <td>22.0</td>\n",
                            "      <td>1</td>\n",
                            "      <td>0</td>\n",
                            "      <td>7.2500</td>\n",
                            "      <td>S</td>\n",
                            "      <td>1</td>\n",
                            "    </tr>\n",
                            "    <tr>\n",
                            "      <th>1</th>\n",
                            "      <td>1</td>\n",
                            "      <td>1</td>\n",
                            "      <td>1</td>\n",
                            "      <td>38.0</td>\n",
                            "      <td>1</td>\n",
                            "      <td>0</td>\n",
                            "      <td>71.2833</td>\n",
                            "      <td>C</td>\n",
                            "      <td>2</td>\n",
                            "    </tr>\n",
                            "    <tr>\n",
                            "      <th>2</th>\n",
                            "      <td>1</td>\n",
                            "      <td>3</td>\n",
                            "      <td>1</td>\n",
                            "      <td>26.0</td>\n",
                            "      <td>0</td>\n",
                            "      <td>0</td>\n",
                            "      <td>7.9250</td>\n",
                            "      <td>S</td>\n",
                            "      <td>3</td>\n",
                            "    </tr>\n",
                            "    <tr>\n",
                            "      <th>3</th>\n",
                            "      <td>1</td>\n",
                            "      <td>1</td>\n",
                            "      <td>1</td>\n",
                            "      <td>35.0</td>\n",
                            "      <td>1</td>\n",
                            "      <td>0</td>\n",
                            "      <td>53.1000</td>\n",
                            "      <td>S</td>\n",
                            "      <td>2</td>\n",
                            "    </tr>\n",
                            "    <tr>\n",
                            "      <th>4</th>\n",
                            "      <td>0</td>\n",
                            "      <td>3</td>\n",
                            "      <td>0</td>\n",
                            "      <td>35.0</td>\n",
                            "      <td>0</td>\n",
                            "      <td>0</td>\n",
                            "      <td>8.0500</td>\n",
                            "      <td>S</td>\n",
                            "      <td>1</td>\n",
                            "    </tr>\n",
                            "  </tbody>\n",
                            "</table>\n",
                            "</div>"
                        ]
                    },
                    "metadata": {},
                    "execution_count": 115
                }
            ],
            "metadata": {}
        },
        {
            "cell_type": "code",
            "execution_count": null,
            "source": [],
            "outputs": [],
            "metadata": {}
        }
    ],
    "metadata": {
        "orig_nbformat": 4,
        "language_info": {
            "name": "python",
            "version": "3.8.5",
            "mimetype": "text/x-python",
            "codemirror_mode": {
                "name": "ipython",
                "version": 3
            },
            "pygments_lexer": "ipython3",
            "nbconvert_exporter": "python",
            "file_extension": ".py"
        },
        "kernelspec": {
            "name": "python3",
            "display_name": "Python 3.8.5 64-bit ('base': conda)"
        },
        "interpreter": {
            "hash": "b3ba2566441a7c06988d0923437866b63cedc61552a5af99d1f4fb67d367b25f"
        }
    },
    "nbformat": 4,
    "nbformat_minor": 2
}